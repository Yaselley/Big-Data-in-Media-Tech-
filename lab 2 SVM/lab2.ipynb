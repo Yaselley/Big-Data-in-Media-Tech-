{
 "cells": [
  {
   "cell_type": "markdown",
   "metadata": {},
   "source": [
    "### LAB 1 : Big Data In Media Technology \n",
    "#### Sentiment Classification with Support Vector Machines\n",
    "\n",
    "This lab aims to understand SVM classification technique, get familiar with handly such a type of data, do data cleaning and data analysis, learn to employ python to do analysis.  "
   ]
  },
  {
   "cell_type": "markdown",
   "metadata": {},
   "source": [
    "### Plan :\n",
    "    1. Data Exploration \n",
    "    2. Data Processing using NLTK \n",
    "    3. Bag of Words & TF-IDF models \n",
    "    4. Train and test the model "
   ]
  },
  {
   "cell_type": "markdown",
   "metadata": {},
   "source": [
    "### 1. Data Exploration "
   ]
  },
  {
   "cell_type": "markdown",
   "metadata": {},
   "source": [
    "#### 1.1 import python useful packages "
   ]
  },
  {
   "cell_type": "code",
   "execution_count": 1,
   "metadata": {},
   "outputs": [
    {
     "name": "stdout",
     "output_type": "stream",
     "text": [
      "WARNING: pip is being invoked by an old script wrapper. This will fail in a future version of pip.\n",
      "Please see https://github.com/pypa/pip/issues/5599 for advice on fixing the underlying issue.\n",
      "To avoid this problem you can invoke Python with '-m pip' instead of running pip directly.\n",
      "\u001b[33mDEPRECATION: Python 3.5 reached the end of its life on September 13th, 2020. Please upgrade your Python as Python 3.5 is no longer maintained. pip 21.0 will drop support for Python 3.5 in January 2021. pip 21.0 will remove support for this functionality.\u001b[0m\n",
      "Defaulting to user installation because normal site-packages is not writeable\n",
      "Requirement already satisfied: nltk in /mnt/workspace/.local/lib/python3.5/site-packages (3.6.2)\n",
      "Requirement already satisfied: regex in /mnt/workspace/.local/lib/python3.5/site-packages (from nltk) (2021.8.28)\n",
      "Requirement already satisfied: click in /mnt/workspace/.local/lib/python3.5/site-packages (from nltk) (7.1.2)\n",
      "Requirement already satisfied: tqdm in /mnt/workspace/.local/lib/python3.5/site-packages (from nltk) (4.62.2)\n",
      "Requirement already satisfied: joblib in /mnt/workspace/.local/lib/python3.5/site-packages (from nltk) (0.14.1)\n"
     ]
    }
   ],
   "source": [
    "!pip install nltk"
   ]
  },
  {
   "cell_type": "code",
   "execution_count": 2,
   "metadata": {},
   "outputs": [],
   "source": [
    "import sys\n",
    "import numpy as np\n",
    "import pandas as pd \n",
    "import sklearn as skl\n",
    "import seaborn as sns\n",
    "import matplotlib.pyplot as plt \n",
    "import warnings\n",
    "\n",
    "\n",
    "plt.rcParams['figure.figsize'] = (12,4)\n",
    "if not sys.warnoptions:\n",
    "    warnings.simplefilter(\"ignore\")"
   ]
  },
  {
   "cell_type": "markdown",
   "metadata": {},
   "source": [
    "#### 1.2 import data from csv to dataframe"
   ]
  },
  {
   "cell_type": "code",
   "execution_count": 3,
   "metadata": {},
   "outputs": [],
   "source": [
    "''' Function _ csv_pd : @input : String = filename => CSV file name\n",
    "                        @ouput : dataFrame \n",
    "'''              \n",
    "def csv_pd(filename) :\n",
    "    out = pd.read_csv(filename,engine=\"python\",sep=\",\")\n",
    "    return out "
   ]
  },
  {
   "cell_type": "code",
   "execution_count": 4,
   "metadata": {},
   "outputs": [
    {
     "data": {
      "text/html": [
       "<div>\n",
       "<style scoped>\n",
       "    .dataframe tbody tr th:only-of-type {\n",
       "        vertical-align: middle;\n",
       "    }\n",
       "\n",
       "    .dataframe tbody tr th {\n",
       "        vertical-align: top;\n",
       "    }\n",
       "\n",
       "    .dataframe thead th {\n",
       "        text-align: right;\n",
       "    }\n",
       "</style>\n",
       "<table border=\"1\" class=\"dataframe\">\n",
       "  <thead>\n",
       "    <tr style=\"text-align: right;\">\n",
       "      <th></th>\n",
       "      <th>score</th>\n",
       "      <th>text</th>\n",
       "    </tr>\n",
       "  </thead>\n",
       "  <tbody>\n",
       "    <tr>\n",
       "      <th>0</th>\n",
       "      <td>0</td>\n",
       "      <td>overgeneralized, not helpful to anyone serious...</td>\n",
       "    </tr>\n",
       "    <tr>\n",
       "      <th>1</th>\n",
       "      <td>1</td>\n",
       "      <td>Great sound and service.</td>\n",
       "    </tr>\n",
       "    <tr>\n",
       "      <th>2</th>\n",
       "      <td>1</td>\n",
       "      <td>love this book!!!: this book is a fast read ab...</td>\n",
       "    </tr>\n",
       "    <tr>\n",
       "      <th>3</th>\n",
       "      <td>1</td>\n",
       "      <td>A hugely enjoyable screen version of Rona Jaff...</td>\n",
       "    </tr>\n",
       "    <tr>\n",
       "      <th>4</th>\n",
       "      <td>0</td>\n",
       "      <td>What an uninteresting hodge-podge. It could ha...</td>\n",
       "    </tr>\n",
       "  </tbody>\n",
       "</table>\n",
       "</div>"
      ],
      "text/plain": [
       "   score                                               text\n",
       "0      0  overgeneralized, not helpful to anyone serious...\n",
       "1      1                           Great sound and service.\n",
       "2      1  love this book!!!: this book is a fast read ab...\n",
       "3      1  A hugely enjoyable screen version of Rona Jaff...\n",
       "4      0  What an uninteresting hodge-podge. It could ha..."
      ]
     },
     "execution_count": 4,
     "metadata": {},
     "output_type": "execute_result"
    }
   ],
   "source": [
    "train_data = csv_pd(\"train.csv\")\n",
    "train_data.head(5)"
   ]
  },
  {
   "cell_type": "code",
   "execution_count": 5,
   "metadata": {},
   "outputs": [
    {
     "data": {
      "text/plain": [
       "array([0, 1])"
      ]
     },
     "execution_count": 5,
     "metadata": {},
     "output_type": "execute_result"
    }
   ],
   "source": [
    "## Verify that scores can be 0 or 1, Binary Classification\n",
    "train_data.score.unique()"
   ]
  },
  {
   "cell_type": "markdown",
   "metadata": {},
   "source": [
    "### 2.Processing Data using NLTK"
   ]
  },
  {
   "cell_type": "code",
   "execution_count": 6,
   "metadata": {},
   "outputs": [],
   "source": [
    "# Handling Missing Values : \n",
    "def fillna(df) :\n",
    "    show = df.count() - df.isna().count()\n",
    "    print(\"Here's the count list of missing values {}\".format(show.to_frame()))\n",
    "    values = {\"score\": 0, \"text\": \"Negative\"}\n",
    "    df.fillna(value=values)"
   ]
  },
  {
   "cell_type": "code",
   "execution_count": 7,
   "metadata": {},
   "outputs": [
    {
     "name": "stdout",
     "output_type": "stream",
     "text": [
      "Here's the count list of missing values        0\n",
      "score  0\n",
      "text   0\n"
     ]
    }
   ],
   "source": [
    "fillna(train_data)"
   ]
  },
  {
   "cell_type": "code",
   "execution_count": 10,
   "metadata": {},
   "outputs": [
    {
     "name": "stderr",
     "output_type": "stream",
     "text": [
      "[nltk_data] Downloading package stopwords to\n",
      "[nltk_data]     /mnt/workspace/nltk_data...\n",
      "[nltk_data]   Package stopwords is already up-to-date!\n",
      "[nltk_data] Downloading package wordnet to /mnt/workspace/nltk_data...\n",
      "[nltk_data]   Package wordnet is already up-to-date!\n"
     ]
    }
   ],
   "source": [
    "if not sys.warnoptions:\n",
    "    warnings.simplefilter(\"ignore\")\n",
    "# Remove puntuations from text \n",
    "import string\n",
    "import re\n",
    "\n",
    "def remove_puncts(text) :\n",
    "    text = \"\".join([char for char in text if char not in string.punctuation])\n",
    "    text = re.sub(\"\\d+\", \"\", text)\n",
    "    emoji_pattern = re.compile(\"[\"\n",
    "        u\"\\U0001F600-\\U0001F64F\"  # emoticons\n",
    "        u\"\\U0001F300-\\U0001F5FF\"  # symbols & pictographs\n",
    "        u\"\\U0001F680-\\U0001F6FF\"  # transport & map symbols\n",
    "        u\"\\U0001F1E0-\\U0001F1FF\"  # flags (iOS)\n",
    "                           \"]+\", flags=re.UNICODE)\n",
    "    text = re.sub(emoji_pattern, '', text)\n",
    "    return text \n",
    "\n",
    "def tokenize(text) :\n",
    "    text = text.split()\n",
    "    return text\n",
    "\n",
    "import nltk\n",
    "from nltk.corpus import stopwords\n",
    "nltk.download('stopwords')\n",
    "stop_words = nltk.corpus.stopwords.words('english')\n",
    "def remove_stop_words(tokenize_text) :\n",
    "    tokenize_text = [w.lower() for w in tokenize_text if not w.lower() in stop_words]\n",
    "    return tokenize_text\n",
    "\n",
    "from nltk.stem import WordNetLemmatizer\n",
    "nltk.download('wordnet')\n",
    "wn = nltk.WordNetLemmatizer()\n",
    "\n",
    "def lemmating(tokenize_text):\n",
    "    tokenize_text = [wn.lemmatize(word) for word in tokenize_text]\n",
    "    return tokenize_text\n",
    "\n",
    "ps = nltk.PorterStemmer()\n",
    "ls = nltk.LancasterStemmer()\n",
    "\n",
    "def stemming(tokenize_text):\n",
    "    tokenize_text = [ps.stem(word) for word in tokenize_text]\n",
    "    tokenize_text = [ls.stem(word) for word in tokenize_text]\n",
    "    return tokenize_text"
   ]
  },
  {
   "cell_type": "code",
   "execution_count": 11,
   "metadata": {},
   "outputs": [],
   "source": [
    "def apply_processing(df):\n",
    "    df[\"without puncts\"] =df[\"text\"].apply(lambda x: remove_puncts(x))\n",
    "    df[\"tokenize text\"] = df[\"without puncts\"].apply(lambda x: tokenize(x))\n",
    "    df[\"without stop words\"] = df[\"tokenize text\"].apply(lambda x: remove_stop_words(x))\n",
    "    df[\"lemmatized\"] = df[\"without stop words\"].apply(lambda x: lemmating(x))\n",
    "    df[\"stemming\"] = df[\"lemmatized\"].apply(lambda x:stemming(x))\n",
    "    df[\"processed\"] = df[\"stemming\"].apply(lambda x: ' '.join(str(e) for e in x))\n",
    "    return df\n",
    "    \n",
    "train_processed = apply_processing(train_data)"
   ]
  },
  {
   "cell_type": "code",
   "execution_count": 12,
   "metadata": {},
   "outputs": [
    {
     "data": {
      "text/html": [
       "<div>\n",
       "<style scoped>\n",
       "    .dataframe tbody tr th:only-of-type {\n",
       "        vertical-align: middle;\n",
       "    }\n",
       "\n",
       "    .dataframe tbody tr th {\n",
       "        vertical-align: top;\n",
       "    }\n",
       "\n",
       "    .dataframe thead th {\n",
       "        text-align: right;\n",
       "    }\n",
       "</style>\n",
       "<table border=\"1\" class=\"dataframe\">\n",
       "  <thead>\n",
       "    <tr style=\"text-align: right;\">\n",
       "      <th></th>\n",
       "      <th>score</th>\n",
       "      <th>text</th>\n",
       "      <th>without puncts</th>\n",
       "      <th>tokenize text</th>\n",
       "      <th>without stop words</th>\n",
       "      <th>lemmatized</th>\n",
       "      <th>stemming</th>\n",
       "      <th>processed</th>\n",
       "    </tr>\n",
       "  </thead>\n",
       "  <tbody>\n",
       "    <tr>\n",
       "      <th>0</th>\n",
       "      <td>0</td>\n",
       "      <td>overgeneralized, not helpful to anyone serious...</td>\n",
       "      <td>overgeneralized not helpful to anyone seriousl...</td>\n",
       "      <td>[overgeneralized, not, helpful, to, anyone, se...</td>\n",
       "      <td>[overgeneralized, helpful, anyone, seriously, ...</td>\n",
       "      <td>[overgeneralized, helpful, anyone, seriously, ...</td>\n",
       "      <td>[overg, help, anyon, sery, appl, prem, know, n...</td>\n",
       "      <td>overg help anyon sery appl prem know noth mean...</td>\n",
       "    </tr>\n",
       "    <tr>\n",
       "      <th>1</th>\n",
       "      <td>1</td>\n",
       "      <td>Great sound and service.</td>\n",
       "      <td>Great sound and service</td>\n",
       "      <td>[Great, sound, and, service]</td>\n",
       "      <td>[great, sound, service]</td>\n",
       "      <td>[great, sound, service]</td>\n",
       "      <td>[gre, sound, serv]</td>\n",
       "      <td>gre sound serv</td>\n",
       "    </tr>\n",
       "    <tr>\n",
       "      <th>2</th>\n",
       "      <td>1</td>\n",
       "      <td>love this book!!!: this book is a fast read ab...</td>\n",
       "      <td>love this book this book is a fast read about ...</td>\n",
       "      <td>[love, this, book, this, book, is, a, fast, re...</td>\n",
       "      <td>[love, book, book, fast, read, poor, young, fa...</td>\n",
       "      <td>[love, book, book, fast, read, poor, young, fa...</td>\n",
       "      <td>[lov, book, book, fast, read, poor, young, far...</td>\n",
       "      <td>lov book book fast read poor young farm boy gr...</td>\n",
       "    </tr>\n",
       "    <tr>\n",
       "      <th>3</th>\n",
       "      <td>1</td>\n",
       "      <td>A hugely enjoyable screen version of Rona Jaff...</td>\n",
       "      <td>A hugely enjoyable screen version of Rona Jaff...</td>\n",
       "      <td>[A, hugely, enjoyable, screen, version, of, Ro...</td>\n",
       "      <td>[hugely, enjoyable, screen, version, rona, jaf...</td>\n",
       "      <td>[hugely, enjoyable, screen, version, rona, jaf...</td>\n",
       "      <td>[hug, enjoy, screen, vert, ron, jaff, bestsel,...</td>\n",
       "      <td>hug enjoy screen vert ron jaff bestsel potboil...</td>\n",
       "    </tr>\n",
       "    <tr>\n",
       "      <th>4</th>\n",
       "      <td>0</td>\n",
       "      <td>What an uninteresting hodge-podge. It could ha...</td>\n",
       "      <td>What an uninteresting hodgepodge It could have...</td>\n",
       "      <td>[What, an, uninteresting, hodgepodge, It, coul...</td>\n",
       "      <td>[uninteresting, hodgepodge, could, something, ...</td>\n",
       "      <td>[uninteresting, hodgepodge, could, something, ...</td>\n",
       "      <td>[uninterest, hodgepodg, could, some, imagin, s...</td>\n",
       "      <td>uninterest hodgepodg could some imagin seem go...</td>\n",
       "    </tr>\n",
       "  </tbody>\n",
       "</table>\n",
       "</div>"
      ],
      "text/plain": [
       "   score                                               text  \\\n",
       "0      0  overgeneralized, not helpful to anyone serious...   \n",
       "1      1                           Great sound and service.   \n",
       "2      1  love this book!!!: this book is a fast read ab...   \n",
       "3      1  A hugely enjoyable screen version of Rona Jaff...   \n",
       "4      0  What an uninteresting hodge-podge. It could ha...   \n",
       "\n",
       "                                      without puncts  \\\n",
       "0  overgeneralized not helpful to anyone seriousl...   \n",
       "1                            Great sound and service   \n",
       "2  love this book this book is a fast read about ...   \n",
       "3  A hugely enjoyable screen version of Rona Jaff...   \n",
       "4  What an uninteresting hodgepodge It could have...   \n",
       "\n",
       "                                       tokenize text  \\\n",
       "0  [overgeneralized, not, helpful, to, anyone, se...   \n",
       "1                       [Great, sound, and, service]   \n",
       "2  [love, this, book, this, book, is, a, fast, re...   \n",
       "3  [A, hugely, enjoyable, screen, version, of, Ro...   \n",
       "4  [What, an, uninteresting, hodgepodge, It, coul...   \n",
       "\n",
       "                                  without stop words  \\\n",
       "0  [overgeneralized, helpful, anyone, seriously, ...   \n",
       "1                            [great, sound, service]   \n",
       "2  [love, book, book, fast, read, poor, young, fa...   \n",
       "3  [hugely, enjoyable, screen, version, rona, jaf...   \n",
       "4  [uninteresting, hodgepodge, could, something, ...   \n",
       "\n",
       "                                          lemmatized  \\\n",
       "0  [overgeneralized, helpful, anyone, seriously, ...   \n",
       "1                            [great, sound, service]   \n",
       "2  [love, book, book, fast, read, poor, young, fa...   \n",
       "3  [hugely, enjoyable, screen, version, rona, jaf...   \n",
       "4  [uninteresting, hodgepodge, could, something, ...   \n",
       "\n",
       "                                            stemming  \\\n",
       "0  [overg, help, anyon, sery, appl, prem, know, n...   \n",
       "1                                 [gre, sound, serv]   \n",
       "2  [lov, book, book, fast, read, poor, young, far...   \n",
       "3  [hug, enjoy, screen, vert, ron, jaff, bestsel,...   \n",
       "4  [uninterest, hodgepodg, could, some, imagin, s...   \n",
       "\n",
       "                                           processed  \n",
       "0  overg help anyon sery appl prem know noth mean...  \n",
       "1                                     gre sound serv  \n",
       "2  lov book book fast read poor young farm boy gr...  \n",
       "3  hug enjoy screen vert ron jaff bestsel potboil...  \n",
       "4  uninterest hodgepodg could some imagin seem go...  "
      ]
     },
     "execution_count": 12,
     "metadata": {},
     "output_type": "execute_result"
    }
   ],
   "source": [
    "train_processed.head(5)"
   ]
  },
  {
   "cell_type": "markdown",
   "metadata": {},
   "source": [
    "### 3. Bag_of_Words and TF-IFD "
   ]
  },
  {
   "cell_type": "markdown",
   "metadata": {},
   "source": [
    "#### 3.1 Bag of Words Model \n",
    "A bag-of-words is a representation of text that describes the occurrence of words within a document. It involves two things:\n",
    "    - A vocabulary of known words.\n",
    "    \n",
    "    - A measure of the presence of known words."
   ]
  },
  {
   "cell_type": "code",
   "execution_count": 65,
   "metadata": {},
   "outputs": [],
   "source": [
    "from sklearn.feature_extraction.text import CountVectorizer\n",
    "from sklearn.pipeline import Pipeline\n",
    "\n",
    "countV = CountVectorizer(lowercase=False, ngram_range=(1,2)) # Bag Of Words\n",
    "train_countV = countV.fit_transform(train_processed.processed) # Fit the dictionnary"
   ]
  },
  {
   "cell_type": "code",
   "execution_count": 66,
   "metadata": {},
   "outputs": [
    {
     "data": {
      "text/plain": [
       "array(['lall', 'wit green', 'direct com', 'gre reread', 'fli carpet',\n",
       "       'team rebel', 'see us', 'deep any', 'left sad', 'reawak', 'dignit',\n",
       "       'firstl act', 'explicit enough', 'morn giv', 'fac virgin',\n",
       "       'garb okay', 'thu ens', 'would dang', 'journey nev', 'writ', 'mah',\n",
       "       'ryan lik', 'fut rul', 'lowr', 'short deirdr', 'prett suppo',\n",
       "       'view vot', 'amaz jetblu', 'punt piledr', 'understand neophyt',\n",
       "       'afr cost', 'nichol cag', 'rang stil', 'lawr kind', 'phon deserv',\n",
       "       'viol frust', 'wif lik', 'plea rest', 'realopt', 'could termin',\n",
       "       'br hug', 'int stor', 'altoge cre', 'song also', 'chant jan',\n",
       "       'last far', 'built nic', 'popcorn found', 'almost hug',\n",
       "       'kidnap stol'], dtype='<U64')"
      ]
     },
     "execution_count": 66,
     "metadata": {},
     "output_type": "execute_result"
    }
   ],
   "source": [
    "## A random set of words in our vocabulary\n",
    "np.random.choice(countV.get_feature_names(), 50, replace=False)"
   ]
  },
  {
   "cell_type": "markdown",
   "metadata": {},
   "source": [
    "#### 3.2 TF-IDF Model "
   ]
  },
  {
   "cell_type": "code",
   "execution_count": 67,
   "metadata": {},
   "outputs": [],
   "source": [
    "from sklearn.feature_extraction.text import TfidfVectorizer\n",
    "\n",
    "tfidfV = TfidfVectorizer(lowercase=False, ngram_range=(1,3))\n",
    "train_tfidf = tfidfV.fit_transform(train_processed.processed)"
   ]
  },
  {
   "cell_type": "markdown",
   "metadata": {},
   "source": [
    "### 4. Train and Test The models "
   ]
  },
  {
   "cell_type": "code",
   "execution_count": 68,
   "metadata": {},
   "outputs": [],
   "source": [
    "## Import Datas Test and Evaluation\n",
    "test_data = csv_pd(\"test.csv\")\n",
    "evaluation_data = csv_pd(\"evaluation.csv\")\n",
    "\n",
    "## Process Datas Test and Evaluation \n",
    "test_processed = apply_processing(test_data)\n",
    "evaluation_processed = apply_processing(evaluation_data)"
   ]
  },
  {
   "cell_type": "markdown",
   "metadata": {},
   "source": [
    "#### 4.1 Choose NLP Model (BoW or TF-IDF) wrt Different SVM's Classifiers"
   ]
  },
  {
   "cell_type": "code",
   "execution_count": 87,
   "metadata": {},
   "outputs": [],
   "source": [
    "from sklearn.pipeline import Pipeline\n",
    "from sklearn.naive_bayes import MultinomialNB\n",
    "from sklearn.metrics import f1_score\n",
    "from sklearn import svm\n",
    "\n",
    "def test_model_BoW(train_df,test_df,y,y_test,models,names) :\n",
    "    L,S = [[] for i in range(len(names))],[[] for i in range(len(names))]\n",
    "    for i in range(len(models)):\n",
    "        model_bow = Pipeline([('countV_bayes',countV),('bayes_classifier',models[i])])\n",
    "        model_bow.fit(train_df,y)\n",
    "        y_pred_train = model_bow.predict(train_df)\n",
    "        y_pred_test = model_bow.predict(test_df)\n",
    "        accuracy_train = np.mean(y_pred_train == y)\n",
    "        accuracy_test = np.mean(y_pred_test == y_test)\n",
    "        f1_train = f1_score(y_pred_train,y, average='macro')\n",
    "        f1_test = f1_score(y_pred_test,y_test, average='macro')\n",
    "        L[i].append(accuracy_train)\n",
    "        S[i].append(accuracy_test)\n",
    "        L[i].append(f1_train)\n",
    "        S[i].append(f1_test)\n",
    "        print('\\n\\n\\n')\n",
    "        print(\"#################Start Train and Test BoW with {}#################\".format(names[i]))\n",
    "        print(\"For training score Using BoW We reached {} as accuracy\".format(accuracy_train))\n",
    "        print(\"For testing score Using BoW We reached {} as accuracy\".format(accuracy_test))\n",
    "        print(\"For training score Using BoW We reached {} as f1-score\".format(f1_train))\n",
    "        print(\"For testing score Using BoW We reached {} as f1-score\".format(f1_test))\n",
    "        print(\"##################End Train and Test BoW with {}##################\".format(names[i]))\n",
    "        print('\\n\\n\\n')\n",
    "    \n",
    "    return L,S\n",
    "    \n",
    "    \n",
    "def test_model_TFIDF(train_df,test_df,y,y_test,models,names) : \n",
    "    L,S = [[] for i in range(len(names))],[[] for i in range(len(names))]\n",
    "    for i in range(len(models)):\n",
    "        model_TFIDF = Pipeline([('tfidfv_bayes',tfidfV),('bayes_classifier',models[i])])\n",
    "        model_TFIDF.fit(train_df,y)\n",
    "        y_pred_train = model_TFIDF.predict(train_df)\n",
    "        y_pred_test = model_TFIDF.predict(test_df)\n",
    "        accuracy_train = np.mean(y_pred_train == y)\n",
    "        accuracy_test = np.mean(y_pred_test == y_test)\n",
    "        f1_train = f1_score(y_pred_train,y,average='macro')\n",
    "        f1_test = f1_score(y_pred_test,y_test,average='macro')\n",
    "        L[i].append(accuracy_train)\n",
    "        S[i].append(accuracy_test)\n",
    "        L[i].append(f1_train)\n",
    "        S[i].append(f1_test)\n",
    "        print('\\n\\n\\n')\n",
    "        print(\"#################Start Train and Test TF-IDF with {}#################\".format(names[i]))\n",
    "        print(\"For training score Using TFIDF We reached {} as accuracy\".format(accuracy_train))\n",
    "        print(\"For testing score Using TFIDF We reached {} as accuracy\".format(accuracy_test))\n",
    "        print(\"For training score Using TFIDF We reached {} as f1-score\".format(f1_train))\n",
    "        print(\"For testing score Using TFIDF We reached {} as f1-score\".format(f1_test))\n",
    "        print(\"#################End Train and Test TF-IDF with {}###################\".format(names[i]))\n",
    "        print('\\n\\n\\n')\n",
    "    \n",
    "    return L,S"
   ]
  },
  {
   "cell_type": "code",
   "execution_count": 88,
   "metadata": {},
   "outputs": [],
   "source": [
    "## Models :\n",
    "C = 1.0  # SVM regularization parameter\n",
    "\n",
    "svc = svm.SVC(kernel='linear', C=C)\n",
    "svclinear = svm.LinearSVC(C=C, max_iter=10000)\n",
    "svcrbf = svm.SVC(kernel='rbf', gamma=0.7, C=C)\n",
    "\n",
    "models = [svc,svclinear,svcrbf]\n",
    "names = [\"SVM\", \"Linear SVM\", \"SVM with RBF Kernel\"]"
   ]
  },
  {
   "cell_type": "code",
   "execution_count": 89,
   "metadata": {},
   "outputs": [
    {
     "name": "stdout",
     "output_type": "stream",
     "text": [
      "\n",
      "\n",
      "\n",
      "\n",
      "#################Start Train and Test BoW with SVM#################\n",
      "For training score Using BoW We reached 0.9994666666666666 as accuracy\n",
      "For testing score Using BoW We reached 0.8136 as accuracy\n",
      "For training score Using BoW We reached 0.999466666514963 as f1-score\n",
      "For testing score Using BoW We reached 0.8135655170780387 as f1-score\n",
      "##################End Train and Test BoW with SVM##################\n",
      "\n",
      "\n",
      "\n",
      "\n",
      "\n",
      "\n",
      "\n",
      "\n",
      "#################Start Train and Test BoW with Linear SVM#################\n",
      "For training score Using BoW We reached 0.9994666666666666 as accuracy\n",
      "For testing score Using BoW We reached 0.8168 as accuracy\n",
      "For training score Using BoW We reached 0.999466666514963 as f1-score\n",
      "For testing score Using BoW We reached 0.8167324402467726 as f1-score\n",
      "##################End Train and Test BoW with Linear SVM##################\n",
      "\n",
      "\n",
      "\n",
      "\n",
      "\n",
      "\n",
      "\n",
      "\n",
      "#################Start Train and Test BoW with SVM with RBF Kernel#################\n",
      "For training score Using BoW We reached 0.9994666666666666 as accuracy\n",
      "For testing score Using BoW We reached 0.5548 as accuracy\n",
      "For training score Using BoW We reached 0.9994666663253331 as f1-score\n",
      "For testing score Using BoW We reached 0.4605441088799384 as f1-score\n",
      "##################End Train and Test BoW with SVM with RBF Kernel##################\n",
      "\n",
      "\n",
      "\n",
      "\n"
     ]
    }
   ],
   "source": [
    "bowtrain, bowtest = test_model_BoW(\n",
    "                  train_processed.processed,\n",
    "                  test_processed.processed,\n",
    "                  train_processed.score,\n",
    "                  test_processed.score,\n",
    "                  models,\n",
    "                  names\n",
    "                )"
   ]
  },
  {
   "cell_type": "code",
   "execution_count": 90,
   "metadata": {},
   "outputs": [
    {
     "name": "stdout",
     "output_type": "stream",
     "text": [
      "\n",
      "\n",
      "\n",
      "\n",
      "#################Start Train and Test TF-IDF with SVM#################\n",
      "For training score Using TFIDF We reached 0.998 as accuracy\n",
      "For testing score Using TFIDF We reached 0.8432 as accuracy\n",
      "For training score Using TFIDF We reached 0.9979999982577763 as f1-score\n",
      "For testing score Using TFIDF We reached 0.8431995985909724 as f1-score\n",
      "#################End Train and Test TF-IDF with SVM###################\n",
      "\n",
      "\n",
      "\n",
      "\n",
      "\n",
      "\n",
      "\n",
      "\n",
      "#################Start Train and Test TF-IDF with Linear SVM#################\n",
      "For training score Using TFIDF We reached 0.9994666666666666 as accuracy\n",
      "For testing score Using TFIDF We reached 0.8476 as accuracy\n",
      "For training score Using TFIDF We reached 0.999466666514963 as f1-score\n",
      "For testing score Using TFIDF We reached 0.847599975615996 as f1-score\n",
      "#################End Train and Test TF-IDF with Linear SVM###################\n",
      "\n",
      "\n",
      "\n",
      "\n",
      "\n",
      "\n",
      "\n",
      "\n",
      "#################Start Train and Test TF-IDF with SVM with RBF Kernel#################\n",
      "For training score Using TFIDF We reached 0.9982666666666666 as accuracy\n",
      "For testing score Using TFIDF We reached 0.8364 as accuracy\n",
      "For training score Using TFIDF We reached 0.998266665896296 as f1-score\n",
      "For testing score Using TFIDF We reached 0.8363601766125806 as f1-score\n",
      "#################End Train and Test TF-IDF with SVM with RBF Kernel###################\n",
      "\n",
      "\n",
      "\n",
      "\n"
     ]
    }
   ],
   "source": [
    "tftrain, tftest = test_model_TFIDF(\n",
    "                  train_processed.processed,\n",
    "                  test_processed.processed,\n",
    "                  train_processed.score,\n",
    "                  test_processed.score,\n",
    "                  models,\n",
    "                  names\n",
    "                )"
   ]
  },
  {
   "cell_type": "markdown",
   "metadata": {},
   "source": [
    "after analyzing the results found with the two models BoW and TFIDF, we take the model that gives us the highest accuracy (we can see that both models suffer from the overfitting problem), and the training model that gives us the highest accuracy is Linear SVM."
   ]
  },
  {
   "cell_type": "markdown",
   "metadata": {},
   "source": [
    "#### 4.2 Apply the Model TF-IDF with Linear SVM to Evaluation file"
   ]
  },
  {
   "cell_type": "code",
   "execution_count": 94,
   "metadata": {},
   "outputs": [
    {
     "data": {
      "text/plain": [
       "5000"
      ]
     },
     "execution_count": 94,
     "metadata": {},
     "output_type": "execute_result"
    }
   ],
   "source": [
    "len(evaluation_processed.processed)"
   ]
  },
  {
   "cell_type": "code",
   "execution_count": 93,
   "metadata": {},
   "outputs": [
    {
     "name": "stdout",
     "output_type": "stream",
     "text": [
      "\n",
      "\n",
      "\n",
      "\n",
      "#################Start Train and Test TF-IDF with Linear SVM#################\n",
      "For training score Using TFIDF We reached 0.9994666666666666 as accuracy\n",
      "For testing score Using TFIDF We reached 0.83 as accuracy\n",
      "For training score Using TFIDF We reached 0.999466666514963 as f1-score\n",
      "For testing score Using TFIDF We reached 0.8297489546185222 as f1-score\n",
      "#################End Train and Test TF-IDF with Linear SVM###################\n",
      "\n",
      "\n",
      "\n",
      "\n"
     ]
    }
   ],
   "source": [
    "tftrain, tftest = test_model_TFIDF(\n",
    "                    train_processed.processed,\n",
    "                    evaluation_processed.processed,\n",
    "                    train_processed.score,\n",
    "                    evaluation_processed.score,\n",
    "                    [svclinear],\n",
    "                    ['Linear SVM']\n",
    "                )"
   ]
  },
  {
   "cell_type": "markdown",
   "metadata": {},
   "source": [
    "#### 4.3 Apply the Model TF-IDF with Linear SVM to 300 booking samples"
   ]
  },
  {
   "cell_type": "code",
   "execution_count": 95,
   "metadata": {},
   "outputs": [
    {
     "name": "stdout",
     "output_type": "stream",
     "text": [
      "WARNING: pip is being invoked by an old script wrapper. This will fail in a future version of pip.\n",
      "Please see https://github.com/pypa/pip/issues/5599 for advice on fixing the underlying issue.\n",
      "To avoid this problem you can invoke Python with '-m pip' instead of running pip directly.\n",
      "\u001b[33mDEPRECATION: Python 3.5 reached the end of its life on September 13th, 2020. Please upgrade your Python as Python 3.5 is no longer maintained. pip 21.0 will drop support for Python 3.5 in January 2021. pip 21.0 will remove support for this functionality.\u001b[0m\n",
      "Defaulting to user installation because normal site-packages is not writeable\n",
      "Requirement already satisfied: requests in /mnt/workspace/.local/lib/python3.5/site-packages (2.25.1)\n",
      "Requirement already satisfied: idna<3,>=2.5 in /mnt/workspace/.local/lib/python3.5/site-packages (from requests) (2.10)\n",
      "Requirement already satisfied: chardet<5,>=3.0.2 in /mnt/workspace/.local/lib/python3.5/site-packages (from requests) (4.0.0)\n",
      "Requirement already satisfied: urllib3<1.27,>=1.21.1 in /mnt/workspace/.local/lib/python3.5/site-packages (from requests) (1.26.4)\n",
      "Requirement already satisfied: certifi>=2017.4.17 in /mnt/workspace/.local/lib/python3.5/site-packages (from requests) (2020.12.5)\n"
     ]
    }
   ],
   "source": [
    "! pip install requests"
   ]
  },
  {
   "cell_type": "markdown",
   "metadata": {},
   "source": [
    "import requests\n",
    "response = requests.get(\"https://api.publicapis.org/entries\")\n",
    "import json\n",
    "\n",
    "def jprint(obj):\n",
    "    # create a formatted string of the Python JSON object\n",
    "    text = json.dumps(obj, sort_keys=True, indent=4)\n",
    "    print(text)\n",
    "\n",
    "jprint(response.json())"
   ]
  },
  {
   "cell_type": "code",
   "execution_count": 114,
   "metadata": {},
   "outputs": [
    {
     "name": "stdout",
     "output_type": "stream",
     "text": [
      "{'query': {'url': 'https://www.capterra.com/p/140650/Recruitee', 'amount': '300'}, 'reviews': [{'text': None, 'rating': 4, 'user_name': 'Anna Z.', 'timestamp': '2021-07-28', 'title': None, 'platform': 'capterra.com', 'platform_specific': {'user_job_title': 'HR Specialist', 'cons': \"It's sometimes missing some small features or limitations of what it can do. A few includes preventing admins from seeing their own profiles, ability to further limit some confidential information (they have a method but it's sometimes not the best), when you send interview invitation via Microsoft teams sync, you can't rename the meeting invitation on Teams.  \", 'user_company_name': 'Globalme Localization', 'rating_recommendation_likelihood': 8, 'rating_customer_support': None, 'rating_value_for_money': None, 'pros': \"The user interface of the tool is very straight forward. This is the third ATS I've used and I would say that it generally has majority of the features you'd look for in an ATS. It has different reports for recruitment KPI tracking, calendar sync for scheduling, email templates, auto-mated email response, various access restrictions for panel interviews, etc. Their help portal has video guides which is helpful if you're a visual learner.\", 'rating_functionality': 4, 'rating_ease_of_use': 4, 'user_industry': 'Information Technology and Services', 'rating_overall': 4}}, {'text': None, 'rating': 4, 'user_name': 'Verified Reviewer', 'timestamp': '2021-07-21', 'title': None, 'platform': 'capterra.com', 'platform_specific': {'user_job_title': None, 'cons': \"I didn't use the software long enough to dislike something about it.  However, sometimes the software could be more customisable. \", 'user_company_name': None, 'rating_recommendation_likelihood': 8, 'rating_customer_support': 4, 'rating_value_for_money': 4, 'pros': \"I like everything about the software, it's very easy to use, you can track all the pipeline of candidates, interact with people who are involved in hiring process and rate the candidates. 10/10 \", 'rating_functionality': 4, 'rating_ease_of_use': 4, 'user_industry': 'Computer Software', 'rating_overall': 4}}, {'text': None, 'rating': 1, 'user_name': 'Peyush B.', 'timestamp': '2021-06-22', 'title': None, 'platform': 'capterra.com', 'platform_specific': {'user_job_title': 'CEO', 'cons': 'Non-coordination between selling and service and accounts teams. Poor customer service repeatedly. Management is least bothered. They block service in the middle due to non coordination at their end. Sales guys tell you something and service guys something else.', 'user_company_name': 'Lenskart', 'rating_recommendation_likelihood': 4, 'rating_customer_support': 1, 'rating_value_for_money': 3, 'pros': 'It has a mobile app and it has a pipeline feature', 'rating_functionality': 5, 'rating_ease_of_use': 3, 'user_industry': 'Retail', 'rating_overall': 1}}, {'text': None, 'rating': 1, 'user_name': 'Florent P.', 'timestamp': '2021-06-04', 'title': None, 'platform': 'capterra.com', 'platform_specific': {'user_job_title': 'CEO', 'cons': 'le manque de jobboards, la diffusion est inefficace.', 'user_company_name': 'DAZL', 'rating_recommendation_likelihood': 0, 'rating_customer_support': 1, 'rating_value_for_money': 1, 'pros': \"L'ergonomie et le design ce sont les points forts.\", 'rating_functionality': 1, 'rating_ease_of_use': 5, 'user_industry': 'Marketing and Advertising', 'rating_overall': 1}}, {'text': None, 'rating': 4, 'user_name': 'Verified Reviewer', 'timestamp': '2021-05-11', 'title': None, 'platform': 'capterra.com', 'platform_specific': {'user_job_title': None, 'cons': 'The career page itself does the job, but it lacks some flexibility to make it look great.You can\\'t set a job as \"remote\" for instance, or open in multiple locations. We have several offices, and some roles are location-indifferent, so we\\'d like to show it\\'s open in multiple locations. Instead, we have to duplicate it which is very inconvenient, doesn\\'t look good on the page, and also we can\\'t have an overview of candidate across the duplicated roles.', 'user_company_name': None, 'rating_recommendation_likelihood': 9, 'rating_customer_support': 5, 'rating_value_for_money': 5, 'pros': 'Recruitee is pretty easy to use, and the team was onboarded with no problem. the kanban view of candidates is very convenient, and the stages can be adapted to our own recruitment process as well', 'rating_functionality': 4, 'rating_ease_of_use': 5, 'user_industry': 'Internet', 'rating_overall': 4}}, {'text': None, 'rating': 5, 'user_name': 'Peter R.', 'timestamp': '2021-03-20', 'title': None, 'platform': 'capterra.com', 'platform_specific': {'user_job_title': 'Web developer', 'cons': \"It's a bit difficult and time consuming to setup perfectly, but once setup, all the time invested into setup pays back quickly.\", 'user_company_name': 'GoodRequest', 'rating_recommendation_likelihood': 9, 'rating_customer_support': None, 'rating_value_for_money': None, 'pros': 'Recruitee helps us to streamline our recruiting and onboarding process. It forces us to follow guidelines and deadlines and make our process much more professional.', 'rating_functionality': 5, 'rating_ease_of_use': 5, 'user_industry': 'Computer & Network Security', 'rating_overall': 5}}, {'text': None, 'rating': 5, 'user_name': 'Naman G.', 'timestamp': '2021-01-12', 'title': None, 'platform': 'capterra.com', 'platform_specific': {'user_job_title': 'US Recruiter', 'cons': 'Nothing like that every thing in this portal is very impressive very good and easy to understand UI easy to use.', 'user_company_name': 'NLB Services, Inc.', 'rating_recommendation_likelihood': 10, 'rating_customer_support': 5, 'rating_value_for_money': 5, 'pros': 'Help us to find good and reliable Candidates for all the skills. Very Easy to Find Best and genuine profiles ', 'rating_functionality': 5, 'rating_ease_of_use': 5, 'user_industry': 'Human Resources', 'rating_overall': 5}}, {'text': None, 'rating': 1, 'user_name': 'Verified Reviewer', 'timestamp': '2020-12-15', 'title': None, 'platform': 'capterra.com', 'platform_specific': {'user_job_title': None, 'cons': 'When we tried to cancel our plan, they still billed us for additional month saying we did not cancel. You need to go through several pages do cancel your subscription and although your impression will be that you are cancelled, most likely you will be charged still.  When we discovered this one day later, they still refused to give us refund. I would avoid adding your credit card here.', 'user_company_name': None, 'rating_recommendation_likelihood': 2, 'rating_customer_support': 1, 'rating_value_for_money': 1, 'pros': 'Although the software is nice, they limit the functionality heavily and push you to upgrade to higher plans almost monthly. ', 'rating_functionality': 2, 'rating_ease_of_use': 2, 'user_industry': 'Information Technology and Services', 'rating_overall': 1}}, {'text': None, 'rating': 4, 'user_name': 'Erica M.', 'timestamp': '2020-12-08', 'title': None, 'platform': 'capterra.com', 'platform_specific': {'user_job_title': 'Sr. Recruiting Manager', 'cons': \"I don't have any dislikes at this point, the software is fantastic. \", 'user_company_name': 'DeLisaGroup, LLC.', 'rating_recommendation_likelihood': 10, 'rating_customer_support': 5, 'rating_value_for_money': 5, 'pros': 'I was looking for an ATS that included the ability the post to multiple job boards. After what seemed like months of research and demos, I finally came upon and contacted Recruitee and I was impressed from the start. I love that I can create a position and it integrates easily with other job boards, if I choose that option. Or I can simply use the free job boards that Recruitee offers. I also love that I can keep notes, all communication and various info within each job posting OR within each candidate profile. ', 'rating_functionality': 5, 'rating_ease_of_use': 5, 'user_industry': 'Human Resources', 'rating_overall': 4}}, {'text': None, 'rating': 5, 'user_name': 'Audrey T.', 'timestamp': '2020-12-04', 'title': None, 'platform': 'capterra.com', 'platform_specific': {'user_job_title': 'Head of People', 'cons': \"Prevent interviewer to see others evaluations as long as s/he didn't provide his/her. It will reduce biais.\", 'user_company_name': 'Lemonway', 'rating_recommendation_likelihood': 10, 'rating_customer_support': 5, 'rating_value_for_money': None, 'pros': 'Automation,Easy implementationReportsInterface', 'rating_functionality': 5, 'rating_ease_of_use': 5, 'user_industry': 'Financial Services', 'rating_overall': 5}}, {'text': None, 'rating': 5, 'user_name': 'Amena T.', 'timestamp': '2020-12-04', 'title': None, 'platform': 'capterra.com', 'platform_specific': {'user_job_title': 'People Ops Manager', 'cons': 'Sometimes it feels confusing navigating around the settings part. ', 'user_company_name': 'Raisa Energy', 'rating_recommendation_likelihood': 10, 'rating_customer_support': 5, 'rating_value_for_money': 5, 'pros': 'Everything is awesome; the public roadmap, the option to select who can see the comments, the ease of use and bulk actions, customizable everything, the customer support! And of course the careers site!', 'rating_functionality': 5, 'rating_ease_of_use': 5, 'user_industry': 'Information Technology and Services', 'rating_overall': 5}}, {'text': None, 'rating': 4, 'user_name': 'Luuk F.', 'timestamp': '2020-11-30', 'title': None, 'platform': 'capterra.com', 'platform_specific': {'user_job_title': 'Recruitment Scientist', 'cons': \"The reporting feature does not work for us as we are used to a continuous hiring cycle and we do not close a job after hiring someone. This reporting feature isn't as important to us currently so it's by no means a deal breaker\", 'user_company_name': 'GoDataDriven', 'rating_recommendation_likelihood': 8, 'rating_customer_support': 5, 'rating_value_for_money': 5, 'pros': 'Recruitee seems to have been build with the end-users in mind. As such it is very intuitive and requires very little explaination to my team. ', 'rating_functionality': 4, 'rating_ease_of_use': 5, 'user_industry': 'Information Technology and Services', 'rating_overall': 4}}, {'text': None, 'rating': 5, 'user_name': 'Natasha R.', 'timestamp': '2020-10-15', 'title': None, 'platform': 'capterra.com', 'platform_specific': {'user_job_title': 'Sr Talent Sourcer', 'cons': 'Recruitee is volop in ontwikkeling.  Er is een mooie basis, maar qua extra features is er nog meer te halen. Het team is daar volop mee bezig! Dus komt het helemaal goed!', 'user_company_name': 'Zelfstroom', 'rating_recommendation_likelihood': 10, 'rating_customer_support': 5, 'rating_value_for_money': 5, 'pros': 'Het systeem is gebruiksvriendelijk. Iedereen kan er gebruik! van maken.  Ontzettend fijn in alle lagen', 'rating_functionality': 4, 'rating_ease_of_use': 5, 'user_industry': 'Environmental Services', 'rating_overall': 5}}, {'text': None, 'rating': 5, 'user_name': 'Zaighum A.', 'timestamp': '2020-10-09', 'title': None, 'platform': 'capterra.com', 'platform_specific': {'user_job_title': 'Office admin ', 'cons': \"Sometimes links are coming down I don't know why but overall i really like recruitee app. There is no technical error.\", 'user_company_name': 'Omega auto parts', 'rating_recommendation_likelihood': 10, 'rating_customer_support': 5, 'rating_value_for_money': 5, 'pros': 'Recruitee is the desktop and app software for jobs seekers and employers. Video interview option is awesome in recruitee app.', 'rating_functionality': 5, 'rating_ease_of_use': 5, 'user_industry': 'Automotive', 'rating_overall': 5}}, {'text': None, 'rating': 4, 'user_name': 'Nazy K.', 'timestamp': '2020-09-23', 'title': None, 'platform': 'capterra.com', 'platform_specific': {'user_job_title': 'Head of Talent', 'cons': \"I think reporting could be better - and intergrations. I don't have a full recruiter seat on LinkedIn so it's a pain that I can't exercise full use of Recruitee & LinkedIn. So much information gets lost/becomes manual work because the two systems don't speak to each other. Subsequently, reporting is not accurate if I forget to log something from LI into Recruitee. \", 'user_company_name': 'Harver', 'rating_recommendation_likelihood': 7, 'rating_customer_support': 5, 'rating_value_for_money': 5, 'pros': \"I like the candidate layout & stage progression. It's very easy to use - and easy to tag managers to keep everyone on the same page.\", 'rating_functionality': 4, 'rating_ease_of_use': 4, 'user_industry': 'Staffing and Recruiting', 'rating_overall': 4}}, {'text': None, 'rating': 5, 'user_name': 'Natasja d.', 'timestamp': '2020-08-26', 'title': None, 'platform': 'capterra.com', 'platform_specific': {'user_job_title': 'Controller', 'cons': 'Nog geen zaken gevonden waar ik niet blij mee zou zijn, dus ga zo door!', 'user_company_name': 'Van Mossel Mercedes-Benz', 'rating_recommendation_likelihood': 10, 'rating_customer_support': None, 'rating_value_for_money': None, 'pros': 'Makkelijk in gebruik, en zeer betrouwbaar', 'rating_functionality': 5, 'rating_ease_of_use': 5, 'user_industry': 'Automotive', 'rating_overall': 5}}, {'text': None, 'rating': 5, 'user_name': 'Cheryl O.', 'timestamp': '2020-07-22', 'title': None, 'platform': 'capterra.com', 'platform_specific': {'user_job_title': 'Recruiting Manager', 'cons': 'The only thing that I see that could change is, it would be nice to have the phone number go in with the right format. I have to always out the (-) in between the numbers so they can be read easier when dialing the candidate. ', 'user_company_name': 'Spectrum Association Management', 'rating_recommendation_likelihood': 10, 'rating_customer_support': 5, 'rating_value_for_money': 5, 'pros': 'Prior to using this ATS system, everything was unorganized and difficult to track each candidate. This tracks all of the interviews and interactions with the candidates. This has changed my life as a recruiter and organized our process with ease. The templates for emails is fantastic and the pipeline is great. We are able to customize everything to fit our needs and making changes is easy. I am not the most technical person, but this system is easy to navigate for even me.  ', 'rating_functionality': 5, 'rating_ease_of_use': 5, 'user_industry': 'Real Estate', 'rating_overall': 5}}, {'text': None, 'rating': 5, 'user_name': 'Loukas L.', 'timestamp': '2020-07-09', 'title': None, 'platform': 'capterra.com', 'platform_specific': {'user_job_title': 'HR Director', 'cons': 'Application form could be more customizable. Also it would be nice if custom filters could be saved for future use', 'user_company_name': 'G4S Greece', 'rating_recommendation_likelihood': 9, 'rating_customer_support': 5, 'rating_value_for_money': 4, 'pros': 'easy to learn and use, unlimited users, integration with free and paid job posting sites, customizable micro site for our adverts.', 'rating_functionality': 5, 'rating_ease_of_use': 5, 'user_industry': 'Security and Investigations', 'rating_overall': 5}}, {'text': None, 'rating': 5, 'user_name': 'Emma K.', 'timestamp': '2020-07-08', 'title': None, 'platform': 'capterra.com', 'platform_specific': {'user_job_title': 'Co-Founder', 'cons': 'Within the software, you should be able to auto-block a candidate that definitely will not be hired. ', 'user_company_name': 'Upfeat Media Inc', 'rating_recommendation_likelihood': 10, 'rating_customer_support': 5, 'rating_value_for_money': 5, 'pros': 'The software is incredibly intuitive and makes recruitment hassle-free.', 'rating_functionality': 5, 'rating_ease_of_use': 5, 'user_industry': 'Publishing', 'rating_overall': 5}}, {'text': None, 'rating': 4, 'user_name': 'Lizzie W.', 'timestamp': '2020-06-26', 'title': None, 'platform': 'capterra.com', 'platform_specific': {'user_job_title': 'Growth Analyst', 'cons': '- Would be good to be able to add fields to candidates that can be filled in when they apply insted of just questionnaires- Support and features to help diverse hiring would be fab! (e.g. job description text bias checker, stats on diversity at various pipeline stages etc)', 'user_company_name': 'causaLens', 'rating_recommendation_likelihood': 6, 'rating_customer_support': None, 'rating_value_for_money': None, 'pros': 'Nothing mind blowing about it, but does exactly what its meant to and covers whole pipeline need for recruiting on a large scale', 'rating_functionality': 3, 'rating_ease_of_use': 4, 'user_industry': 'Information Technology and Services', 'rating_overall': 4}}, {'text': None, 'rating': 4, 'user_name': 'Ina K.', 'timestamp': '2020-06-24', 'title': None, 'platform': 'capterra.com', 'platform_specific': {'user_job_title': 'Office Manager', 'cons': '- I cannot insert our logo into an email, just the link of the logo, which looks far away of professional- I cannot insert place holder by my own for sending a mass email', 'user_company_name': 'Callista Group AG', 'rating_recommendation_likelihood': 7, 'rating_customer_support': 5, 'rating_value_for_money': 3, 'pros': 'the very responding support team, fast and supportiv', 'rating_functionality': 3, 'rating_ease_of_use': 5, 'user_industry': 'Staffing and Recruiting', 'rating_overall': 4}}, {'text': None, 'rating': 5, 'user_name': 'Martijn W.', 'timestamp': '2020-06-18', 'title': None, 'platform': 'capterra.com', 'platform_specific': {'user_job_title': 'Hoofd werving en selectie', 'cons': 'Wij zouden de kandidaten die we hebben behandelt graag willen archiveren zonder dat we deze kandidaat-gegevens verwijderen ', 'user_company_name': 'Medical Groep', 'rating_recommendation_likelihood': 9, 'rating_customer_support': 5, 'rating_value_for_money': 4, 'pros': \"De automatisering van email's, het werken met funnel's het overzicht. \", 'rating_functionality': 5, 'rating_ease_of_use': 4, 'user_industry': 'Hospital & Health Care', 'rating_overall': 5}}, {'text': None, 'rating': 4, 'user_name': 'Ruud L.', 'timestamp': '2020-06-18', 'title': None, 'platform': 'capterra.com', 'platform_specific': {'user_job_title': 'Corporate Recruiter', 'cons': 'De mogelijkheden om je werken bij site te editen zijn beperkt.', 'user_company_name': 'BouWatch', 'rating_recommendation_likelihood': 8, 'rating_customer_support': 4, 'rating_value_for_money': 5, 'pros': 'Erg makkelijk in het gebruik, met name voor hiringmanagers die meedraaien in de selectie.', 'rating_functionality': 4, 'rating_ease_of_use': 5, 'user_industry': 'Security and Investigations', 'rating_overall': 4}}, {'text': None, 'rating': 5, 'user_name': 'Marc K.', 'timestamp': '2020-06-09', 'title': None, 'platform': 'capterra.com', 'platform_specific': {'user_job_title': 'Senior Corporate Recruiter', 'cons': 'Ik heb eigenlijk geen min punten voor deze software', 'user_company_name': 'BDO', 'rating_recommendation_likelihood': 9, 'rating_customer_support': 5, 'rating_value_for_money': None, 'pros': 'De recruitee software is gemakkelijk in het gebruik en erg intuïtief ', 'rating_functionality': 5, 'rating_ease_of_use': 5, 'user_industry': 'Accounting', 'rating_overall': 5}}, {'text': None, 'rating': 5, 'user_name': 'Vanessa J.', 'timestamp': '2020-06-09', 'title': None, 'platform': 'capterra.com', 'platform_specific': {'user_job_title': 'HR Generalist', 'cons': 'Me ha pasado en ocasiones que por un mal movimiento con el mouse se borra el texto de mi evaluación. Sería genial tener la opción de recuperar el texto o de hechar para atrás o adelante como en WORD (para recuperar o quitar información). ', 'user_company_name': 'OfertaSimple', 'rating_recommendation_likelihood': 10, 'rating_customer_support': 5, 'rating_value_for_money': 5, 'pros': 'Una herramienta completa para llevar efectivamente el proceso de reclutamiento y selección. Constantemente la están actualizando permitiendo que el proceso sea más automatizado y personalizado para los postulantes y futuros colaboradores. ', 'rating_functionality': 5, 'rating_ease_of_use': 5, 'user_industry': 'Publishing', 'rating_overall': 5}}, {'text': None, 'rating': 1, 'user_name': 'Patrick B.', 'timestamp': '2020-06-06', 'title': None, 'platform': 'capterra.com', 'platform_specific': {'user_job_title': 'Finanzplaner', 'cons': 'Support konnte IT Problem nicht lösen.Habem 25 Bewerbungsdossierrs verloren. Waren auch nicht bemüht das Problem zu lösen', 'user_company_name': 'VSZ Services GmbH', 'rating_recommendation_likelihood': 0, 'rating_customer_support': 1, 'rating_value_for_money': 1, 'pros': 'schnelle Reaktionszeit des support......', 'rating_functionality': 2, 'rating_ease_of_use': 1, 'user_industry': 'Banking', 'rating_overall': 1}}, {'text': None, 'rating': 1, 'user_name': 'Verified Reviewer', 'timestamp': '2020-05-11', 'title': None, 'platform': 'capterra.com', 'platform_specific': {'user_job_title': None, 'cons': 'About 5 months after we chose Recruitee they raised the price of our plan by 442% from [SENSITIVE CONTENT HIDDEN]. And even if we paid 442% more, we would LOSE FEATURES compared to our old plan.Zero warning, zero option to keep old plan. Total disrespect for old customers. Be careful when selecting Recruitee. They treat legacy customers like garbage.', 'user_company_name': None, 'rating_recommendation_likelihood': 0, 'rating_customer_support': 1, 'rating_value_for_money': 1, 'pros': 'I looked extensively at recruiting solutions. I chose Recruitee for a robust feature set and competitive price. They have a good product.', 'rating_functionality': 1, 'rating_ease_of_use': 1, 'user_industry': 'Human Resources', 'rating_overall': 1}}, {'text': None, 'rating': 4, 'user_name': 'Verified Reviewer', 'timestamp': '2020-04-23', 'title': None, 'platform': 'capterra.com', 'platform_specific': {'user_job_title': None, 'cons': \"Lack of features : nurturing, automation based on questionnaire answers, no date and number type for questionnaire answers. Some issues with automated emails.After I subscribed for the trial and start really testing the tool and even some discussions with their salesman the price changed. It's not just a normal increase. It doubled!! It's not fair and probably not legal.\", 'user_company_name': None, 'rating_recommendation_likelihood': 5, 'rating_customer_support': 3, 'rating_value_for_money': 1, 'pros': 'The basic features of an ATS are presents and works good. Video question.', 'rating_functionality': 3, 'rating_ease_of_use': 3, 'user_industry': 'Information Services', 'rating_overall': 4}}, {'text': None, 'rating': 4, 'user_name': 'Adeel Q.', 'timestamp': '2020-04-14', 'title': None, 'platform': 'capterra.com', 'platform_specific': {'user_job_title': 'Founder', 'cons': \"- The candidate profile can feel a bit cluttered, they have done a decent job to manage the info.- Expensive option. With recruitee's tiered pricing strategy, you always have too many or too few 'active jobs'. In most cases, you will end up paying more than you need. There should be a more flexible option.- Data. There is a simple export function for candidates, but all the notes and other data collected is practically lost. Unless you are willing to invest in a developer that is willing to work with Recruitee's API to extract your data. This is a major dealbreaker. Unless you are entirely sure that this platform is a solid solution for the coming years, I cannot recommend this software. This kind of vendor lock-in is not appreciated.\", 'user_company_name': 'Simpelfix', 'rating_recommendation_likelihood': 6, 'rating_customer_support': 3, 'rating_value_for_money': 2, 'pros': 'Recruitee is a well designed ATS software. Many of the key functionalities required to successfully recruit a candidate are available. Setting up and implementing the software is relatively easy and straightforward.Recently introduced custom fields on the candidate profile, which is a good addition.  Customer service generally responds within a day.', 'rating_functionality': 4, 'rating_ease_of_use': 5, 'user_industry': 'Telecommunications', 'rating_overall': 4}}, {'text': None, 'rating': 4, 'user_name': 'Sylvie v.', 'timestamp': '2020-04-03', 'title': None, 'platform': 'capterra.com', 'platform_specific': {'user_job_title': 'Recruiter', 'cons': 'het blijft een standaard programma. Wij hebben als organisatie wat afwijkende wensen die we graag in het programma zouden willen zien', 'user_company_name': 'Quintop Management Consultants', 'rating_recommendation_likelihood': 8, 'rating_customer_support': 5, 'rating_value_for_money': 4, 'pros': 'gebruiksvriendelijkheid, app op de telefoon, het is heel visueel ingericht', 'rating_functionality': 4, 'rating_ease_of_use': 5, 'user_industry': 'Management Consulting', 'rating_overall': 4}}]}\n"
     ]
    }
   ],
   "source": [
    "import requests\n",
    "\n",
    "headers = { \n",
    "  \"apikey\": \"9a0ad690-1ba5-11ec-9dd8-f38e1ffb8550\"}\n",
    "\n",
    "params = (\n",
    "   (\"url\",\"https://www.capterra.com/p/140650/Recruitee\"),\n",
    "   (\"amount\",\"300\"),\n",
    ");\n",
    "\n",
    "response = requests.get('https://app.reviewapi.io/api/v1/reviews', headers=headers, params=params);\n",
    "print(response.json())"
   ]
  },
  {
   "cell_type": "code",
   "execution_count": 32,
   "metadata": {},
   "outputs": [
    {
     "data": {
      "text/plain": [
       "<matplotlib.axes._subplots.AxesSubplot at 0x7f1d67b80da0>"
      ]
     },
     "execution_count": 32,
     "metadata": {},
     "output_type": "execute_result"
    },
    {
     "data": {
      "image/png": "[encoded data removed]",
      "text/plain": [
       "<Figure size 864x288 with 4 Axes>"
      ]
     },
     "metadata": {},
     "output_type": "display_data"
    }
   ],
   "source": [
    "## Display Confusion Matrix - Train Data \n",
    "from sklearn.metrics import confusion_matrix\n",
    "import seaborn as sns\n",
    "\n",
    "fig, axs = plt.subplots(1,2)\n",
    "fig.suptitle('Confusion Matrix')\n",
    "\n",
    "cf_matrix_train = confusion_matrix(train_data.score, tftrain)\n",
    "cf_matrix_eval = confusion_matrix(evaluation_data.score, tftest)\n",
    "\n",
    "axs[0].set_title(\"Train Data\")\n",
    "axs[1].set_title(\"Eval Data\")\n",
    "\n",
    "sns.heatmap(cf_matrix_train, annot=True,ax=axs[0])\n",
    "sns.heatmap(cf_matrix_eval, annot=True,ax=axs[1])"
   ]
  }
 ],
 "metadata": {
  "kernelspec": {
   "display_name": "Python 3",
   "language": "python",
   "name": "python3"
  },
  "language_info": {
   "codemirror_mode": {
    "name": "ipython",
    "version": 3
   },
   "file_extension": ".py",
   "mimetype": "text/x-python",
   "name": "python",
   "nbconvert_exporter": "python",
   "pygments_lexer": "ipython3",
   "version": "3.5.2"
  }
 },
 "nbformat": 4,
 "nbformat_minor": 2
}
